{
 "cells": [
  {
   "cell_type": "code",
   "execution_count": 1,
   "metadata": {},
   "outputs": [],
   "source": [
    "import pyspark\n",
    "from pyspark.sql import SparkSession\n",
    "from pyspark import SparkContext"
   ]
  },
  {
   "cell_type": "code",
   "execution_count": 2,
   "metadata": {},
   "outputs": [],
   "source": [
    "import jaydebeapi, os"
   ]
  },
  {
   "cell_type": "code",
   "execution_count": 3,
   "metadata": {},
   "outputs": [],
   "source": [
    "spark = (\n",
    "SparkSession.builder\n",
    ".appName(\"flock Data Wrangling\")\n",
    ".config(\"spark.jars\",\"/home/girlytechgeek/Desktop/postgres/postgresql-42.2.8.jar\")\n",
    ".getOrCreate()\n",
    ")"
   ]
  },
  {
   "cell_type": "code",
   "execution_count": 4,
   "metadata": {},
   "outputs": [
    {
     "data": {
      "text/html": [
       "\n",
       "            <div>\n",
       "                <p><b>SparkSession - hive</b></p>\n",
       "                \n",
       "        <div>\n",
       "            <p><b>SparkContext</b></p>\n",
       "\n",
       "            <p><a href=\"http://10.0.2.15:4042\">Spark UI</a></p>\n",
       "\n",
       "            <dl>\n",
       "              <dt>Version</dt>\n",
       "                <dd><code>v2.4.5</code></dd>\n",
       "              <dt>Master</dt>\n",
       "                <dd><code>local[*]</code></dd>\n",
       "              <dt>AppName</dt>\n",
       "                <dd><code>PySparkShell</code></dd>\n",
       "            </dl>\n",
       "        </div>\n",
       "        \n",
       "            </div>\n",
       "        "
      ],
      "text/plain": [
       "<pyspark.sql.session.SparkSession at 0x7fe2af4fa250>"
      ]
     },
     "execution_count": 4,
     "metadata": {},
     "output_type": "execute_result"
    }
   ],
   "source": [
    "spark"
   ]
  },
  {
   "cell_type": "code",
   "execution_count": 5,
   "metadata": {},
   "outputs": [],
   "source": [
    "question = spark.read.csv('questions.csv', header=True, escape='\"', multiLine=True, inferSchema=True)\n",
    "answer = spark.read.csv('answers5.csv', header=True, escape='\"', multiLine=True, inferSchema=True)\n",
    "user = spark.read.csv('users2.csv', header=True, inferSchema=True, escape='\"', multiLine=True)"
   ]
  },
  {
   "cell_type": "code",
   "execution_count": 6,
   "metadata": {},
   "outputs": [],
   "source": [
    "#rename individual conflicting column names using withColumnRenamed\n",
    "question = question.withColumnRenamed('id', 'identity')\n",
    "answer = answer.withColumnRenamed('id', 'identify')\n",
    "user = user.withColumnRenamed('id', 'identical')\n",
    "\n",
    "question = question.withColumnRenamed('created_at', 'questions_created_at')\n",
    "answer = answer.withColumnRenamed('created_at', 'answers_created_at')\n",
    "user = user.withColumnRenamed('created_at', 'users_created_at')\n",
    "\n",
    "question = question.withColumnRenamed('user_id', 'questions_user_id')\n",
    "answer = answer.withColumnRenamed('user_id', 'answers_user_id')\n",
    "\n",
    "question = question.withColumnRenamed('score', 'questions_score')\n",
    "answer = answer.withColumnRenamed('score', 'answers_score')\n",
    "\n",
    "answer = answer.withColumnRenamed('body', 'answers_body')"
   ]
  },
  {
   "cell_type": "code",
   "execution_count": 7,
   "metadata": {
    "scrolled": true
   },
   "outputs": [],
   "source": [
    "question_drop = question.na.drop()"
   ]
  },
  {
   "cell_type": "code",
   "execution_count": 8,
   "metadata": {},
   "outputs": [],
   "source": [
    "answer_drop = answer.na.drop()"
   ]
  },
  {
   "cell_type": "code",
   "execution_count": 9,
   "metadata": {},
   "outputs": [],
   "source": [
    "user_drop = user.na.drop()"
   ]
  },
  {
   "cell_type": "code",
   "execution_count": 10,
   "metadata": {},
   "outputs": [
    {
     "data": {
      "text/plain": [
       "132620"
      ]
     },
     "execution_count": 10,
     "metadata": {},
     "output_type": "execute_result"
    }
   ],
   "source": [
    "question_drop.count()"
   ]
  },
  {
   "cell_type": "code",
   "execution_count": 11,
   "metadata": {},
   "outputs": [
    {
     "data": {
      "text/plain": [
       "527544"
      ]
     },
     "execution_count": 11,
     "metadata": {},
     "output_type": "execute_result"
    }
   ],
   "source": [
    "answer_drop.count()"
   ]
  },
  {
   "cell_type": "code",
   "execution_count": 12,
   "metadata": {},
   "outputs": [
    {
     "data": {
      "text/plain": [
       "17723"
      ]
     },
     "execution_count": 12,
     "metadata": {},
     "output_type": "execute_result"
    }
   ],
   "source": [
    "user_drop.count()"
   ]
  },
  {
   "cell_type": "code",
   "execution_count": 13,
   "metadata": {
    "scrolled": true
   },
   "outputs": [
    {
     "name": "stdout",
     "output_type": "stream",
     "text": [
      "+--------+-----------------+--------------------+--------------------+------------------+---------------+----------+-------------+--------------------+\n",
      "|identity|questions_user_id|               title|                body|accepted_answer_id|questions_score|view_count|comment_count|questions_created_at|\n",
      "+--------+-----------------+--------------------+--------------------+------------------+---------------+----------+-------------+--------------------+\n",
      "|54233315|          1118630|XPath parent node...|<p>I'm trying to ...|          54233368|              1|       134|            4| 2019-01-17 09:59:47|\n",
      "|54233145|          7984274| Is this a java BUG?|<p>why the follow...|          54234312|             -2|       132|            3| 2019-01-17 09:50:12|\n",
      "|54233331|          1877002|Different results...|<p>I am new to li...|          54233375|             -1|        26|            0| 2019-01-17 10:00:17|\n",
      "|54233149|         10927076|Using eval as pro...|<p>I know there a...|          54233257|              1|        49|            2| 2019-01-17 09:50:30|\n",
      "|54233170|         10467387|How to build plug...|<p>I know that Un...|          55383582|              0|       146|            0| 2019-01-17 09:51:53|\n",
      "+--------+-----------------+--------------------+--------------------+------------------+---------------+----------+-------------+--------------------+\n",
      "only showing top 5 rows\n",
      "\n",
      "+--------+---------------+-----------+--------------------+-------------+----------+-------------------+\n",
      "|identify|answers_user_id|question_id|        answers_body|answers_score|comment_at| answers_created_at|\n",
      "+--------+---------------+-----------+--------------------+-------------+----------+-------------------+\n",
      "|53994771|       10605126|   53994501|<pre><code>  else...|            0|         0|2019-01-01 10:35:42|\n",
      "|54001812|        3599535|   54001177|<p>You can use th...|            0|         1|2019-01-02 05:50:05|\n",
      "|54004128|        3522312|   54004053|<p>seem you need ...|            0|         0|2019-01-02 09:45:27|\n",
      "|54381844|       10971586|   54381785|<p>Check your <co...|            0|         2|2019-01-26 19:13:25|\n",
      "|54001841|       10839105|   54001092|<p>To iterate ove...|            0|         0|2019-01-02 05:54:09|\n",
      "+--------+---------------+-----------+--------------------+-------------+----------+-------------------+\n",
      "only showing top 5 rows\n",
      "\n",
      "+---------+------------+----------+--------------------+--------------------+--------------------+-----+--------+----------+--------------------+-------------------+-------------------+\n",
      "|identical|display_name|reputation|         website_url|            location|            about_me|views|up_votes|down_votes|           image_url|   users_created_at|         updated_at|\n",
      "+---------+------------+----------+--------------------+--------------------+--------------------+-----+--------+----------+--------------------+-------------------+-------------------+\n",
      "| 10262756|     Ali Mir|         5|    http://nowebsite|Jalandhar, Punjab...|<p>I am a profess...|    9|       0|         0|https://lh4.googl...|2018-08-23 04:10:49|2019-10-12 06:38:20|\n",
      "|  6513406| Jase Banico|         6|   http://banico.org|San Francisco, CA...|<p>I'm building a...|   56|       0|         0|https://i.stack.i...|2016-06-25 20:42:08|2019-06-09 09:55:20|\n",
      "|  8391844|      Amit S|         1| http://sardamit.com|Pune, Maharashtra...|<p>I am a Managem...|    0|       0|         0|https://graph.fac...|2017-07-31 05:17:29|2019-05-06 10:54:08|\n",
      "| 10254253| HACKER 3000|         1|http://hacker3000.tk|             Germany|<p>i dont have a ...|    5|       0|         0|https://lh3.googl...|2018-08-21 10:25:54|2019-09-21 09:29:45|\n",
      "|  8377832|       zDomi|         3|      http://gazu.ga|          Oxford, UK|<p>I love web dev...|    1|       0|         0|https://lh3.googl...|2017-07-27 17:45:01|2019-09-30 18:12:06|\n",
      "+---------+------------+----------+--------------------+--------------------+--------------------+-----+--------+----------+--------------------+-------------------+-------------------+\n",
      "only showing top 5 rows\n",
      "\n"
     ]
    }
   ],
   "source": [
    "question_drop.show(5)\n",
    "answer_drop.show(5)\n",
    "user_drop.show(5)"
   ]
  },
  {
   "cell_type": "code",
   "execution_count": 14,
   "metadata": {},
   "outputs": [
    {
     "data": {
      "text/plain": [
       "['identical',\n",
       " 'display_name',\n",
       " 'reputation',\n",
       " 'website_url',\n",
       " 'location',\n",
       " 'about_me',\n",
       " 'views',\n",
       " 'up_votes',\n",
       " 'down_votes',\n",
       " 'image_url',\n",
       " 'users_created_at',\n",
       " 'updated_at']"
      ]
     },
     "execution_count": 14,
     "metadata": {},
     "output_type": "execute_result"
    }
   ],
   "source": [
    "user_drop.columns"
   ]
  },
  {
   "cell_type": "code",
   "execution_count": 15,
   "metadata": {
    "scrolled": true
   },
   "outputs": [
    {
     "name": "stdout",
     "output_type": "stream",
     "text": [
      "+--------------------+\n",
      "|            location|\n",
      "+--------------------+\n",
      "|Jalandhar, Punjab...|\n",
      "|San Francisco, CA...|\n",
      "|Pune, Maharashtra...|\n",
      "|             Germany|\n",
      "|          Oxford, UK|\n",
      "|Saint Albans, WV,...|\n",
      "|     Berlin, Germany|\n",
      "|          Madagascar|\n",
      "|Medellín, Antioqu...|\n",
      "|Madurai, Tamil Na...|\n",
      "|Wellington, New Z...|\n",
      "|              Turkey|\n",
      "|             Moldova|\n",
      "|           Argentina|\n",
      "|Manjeshwar, Keral...|\n",
      "|     Russia, Irkutsk|\n",
      "|   Kingston, Jamaica|\n",
      "|             Germany|\n",
      "|      Minsk, Belarus|\n",
      "|      Shanghai, Cina|\n",
      "+--------------------+\n",
      "only showing top 20 rows\n",
      "\n"
     ]
    }
   ],
   "source": [
    "user_drop.select('location').show()"
   ]
  },
  {
   "cell_type": "code",
   "execution_count": 16,
   "metadata": {
    "scrolled": true
   },
   "outputs": [
    {
     "name": "stdout",
     "output_type": "stream",
     "text": [
      "+-----------+-------------+\n",
      "|question_id|answers_score|\n",
      "+-----------+-------------+\n",
      "|   53994501|            0|\n",
      "|   54001177|            0|\n",
      "|   54004053|            0|\n",
      "|   54381785|            0|\n",
      "|   54001092|            0|\n",
      "|   53995985|            0|\n",
      "|   54000445|            0|\n",
      "|   53993266|            0|\n",
      "|   54004019|            0|\n",
      "|   53996088|            0|\n",
      "|   54000494|            0|\n",
      "|   54008132|            0|\n",
      "|   54008087|            0|\n",
      "|   53994485|            0|\n",
      "|   54001104|            0|\n",
      "|   54330304|            0|\n",
      "|   54007315|            0|\n",
      "|   54000464|            0|\n",
      "|   54008215|            0|\n",
      "|   53996087|            0|\n",
      "+-----------+-------------+\n",
      "only showing top 20 rows\n",
      "\n"
     ]
    }
   ],
   "source": [
    "answer_drop.select('question_id', 'answers_score').show()"
   ]
  },
  {
   "cell_type": "code",
   "execution_count": 17,
   "metadata": {
    "scrolled": true
   },
   "outputs": [
    {
     "name": "stdout",
     "output_type": "stream",
     "text": [
      "+---------+--------------------+\n",
      "|identical|            location|\n",
      "+---------+--------------------+\n",
      "| 10262756|Jalandhar, Punjab...|\n",
      "|  6513406|San Francisco, CA...|\n",
      "|  8391844|Pune, Maharashtra...|\n",
      "| 10254253|             Germany|\n",
      "|  8377832|          Oxford, UK|\n",
      "|  6509967|Saint Albans, WV,...|\n",
      "|  8386892|     Berlin, Germany|\n",
      "|  2627166|          Madagascar|\n",
      "| 10274636|Medellín, Antioqu...|\n",
      "|  6505596|Madurai, Tamil Na...|\n",
      "| 10278210|Wellington, New Z...|\n",
      "| 10264747|              Turkey|\n",
      "| 10299702|             Moldova|\n",
      "| 10297198|           Argentina|\n",
      "|  6543693|Manjeshwar, Keral...|\n",
      "|  8421111|     Russia, Irkutsk|\n",
      "|  2646801|   Kingston, Jamaica|\n",
      "|  8421992|             Germany|\n",
      "|  6546560|      Minsk, Belarus|\n",
      "|  8425233|      Shanghai, Cina|\n",
      "+---------+--------------------+\n",
      "only showing top 20 rows\n",
      "\n"
     ]
    }
   ],
   "source": [
    "user_drop.select('identical','location').show()"
   ]
  },
  {
   "cell_type": "code",
   "execution_count": 18,
   "metadata": {
    "scrolled": true
   },
   "outputs": [],
   "source": [
    "user_drop.registerTempTable('used')\n",
    "new_user = spark.sql(\"select * from used where location like '%Germany' \")"
   ]
  },
  {
   "cell_type": "code",
   "execution_count": 19,
   "metadata": {
    "scrolled": true
   },
   "outputs": [
    {
     "name": "stdout",
     "output_type": "stream",
     "text": [
      "+---------+-------------+----------+--------------------+--------------------+--------------------+-----+--------+----------+--------------------+-------------------+-------------------+\n",
      "|identical| display_name|reputation|         website_url|            location|            about_me|views|up_votes|down_votes|           image_url|   users_created_at|         updated_at|\n",
      "+---------+-------------+----------+--------------------+--------------------+--------------------+-----+--------+----------+--------------------+-------------------+-------------------+\n",
      "| 10254253|  HACKER 3000|         1|http://hacker3000.tk|             Germany|<p>i dont have a ...|    5|       0|         0|https://lh3.googl...|2018-08-21 10:25:54|2019-09-21 09:29:45|\n",
      "|  8386892|    xtristrix|         1| http://cyberiade.de|     Berlin, Germany|<p>Linux user and...|    2|       0|         0|https://www.grava...|2017-07-29 17:08:47|2019-07-19 11:28:49|\n",
      "|  8421992|     Peter K.|         1|  http://kappelt.net|             Germany|<p>Currently stud...|    5|       0|         0|https://i.stack.i...|2017-08-05 16:11:21|2019-07-29 18:02:17|\n",
      "|  2920139|     ToBeFree|         1|https://freiwuppe...|  Wuppertal, Germany|           <p>.</p>\n",
      "|    3|       0|         0|https://i.stack.i...|2013-10-25 13:17:15|2019-05-22 21:08:26|\n",
      "| 10653517|        Tom G|         3|http://neo.onthew...|             Germany|<p><strong>Hi.</s...|    2|       0|         0|https://i.stack.i...|2018-11-14 17:44:49|2019-09-07 21:30:02|\n",
      "|  8847610| Dmytro Bihun|         5|https://www.faceb...|        Ulm, Germany|<p>I am student o...|   12|       0|         0|https://i.stack.i...|2017-10-28 10:16:16|2019-07-31 09:32:28|\n",
      "| 10785310|     airliner|         4|http://allgeier-p...|             Germany|<p>Fulltime consu...|    2|       0|         0|https://lh4.googl...|2018-12-13 09:55:02|2019-10-11 11:44:51|\n",
      "| 10891649|Manasés Jesús|         3|https://about.me/...| Düsseldorf, Germany|<p>Sᴏғᴛᴡᴀʀᴇ &amp;...|   18|       0|         0|https://i.stack.i...|2019-01-09 19:03:19|2019-10-13 01:13:00|\n",
      "| 11037433|        Marie|         1|           http://na|             Germany|       <p>&lt;3</p>\n",
      "|   14|       0|         0|https://graph.fac...|2019-02-09 10:48:05|2019-04-24 07:23:32|\n",
      "|  1413395|    πάντα ῥεῖ|         1|https://github.co...|Rosenheim (Bavari...|<p><strong>Δεν εί...|30726|    8415|     56450|https://i.stack.i...|2012-05-23 18:53:38|2019-10-11 14:44:37|\n",
      "|  5517842| C. Onnebrink|         1|https://gitlab.co...|             Germany|<ul>\n",
      "<li>Computer...|   25|       0|         0|https://i.stack.i...|2015-11-02 23:20:05|2019-10-02 14:30:36|\n",
      "| 11307808|         Noah|         5|http://www.aviati...|             Germany|<p>D&amp;A Aviati...|    1|       0|         0|https://www.grava...|2019-04-03 19:47:11|2019-09-15 15:27:08|\n",
      "|  9462513|       CaHein|         1|   https://cahein.de|     Bremen, Germany|<p>Since 1999, I ...|    1|       0|         0|https://i.stack.i...|2018-03-08 13:37:10|2019-01-24 13:14:34|\n",
      "|  9682481|       ananth|         5|https://www.youtu...|             Germany|<p>I Like program...|    9|       0|         0|https://lh3.googl...|2018-04-22 17:06:42|2019-10-13 05:58:06|\n",
      "|  3910070|        dswww|         1| http://www.dswww.pl|             Germany|<p>Jesteśmy kreat...|   11|       0|         0|https://i.stack.i...|2014-08-05 11:09:10|2019-06-21 10:57:59|\n",
      "|  5957218|        Silas|         1|     http://silas.la|  Stuttgart, Germany|<p>Hey,\n",
      "I'm Silas...|    4|       0|         0|https://lh6.googl...|2016-02-21 00:11:21|2019-08-22 13:29:13|\n",
      "|  9976740|  Bodo Schulz|         1|http://boone-schu...|    Hamburg, Germany|<p>Ex-Developer /...|    3|       0|         0|https://lh5.googl...|2018-06-22 06:30:19|2019-06-18 05:42:10|\n",
      "| 10113939| rajesh kumar|         3|https://www.linke...|Martinsried, Plan...|<p>Software Desig...|    3|       0|         0|https://i.stack.i...|2018-07-21 06:28:11|2019-10-09 12:50:30|\n",
      "|  2791702|       NicKno|        19|https://www.geekv...|             Germany|<p>I'm a problem ...|    3|      13|         0|https://i.stack.i...|2013-09-18 13:41:18|2019-10-09 13:12:33|\n",
      "|  6707475| Peter Sulzer|         8|http://peter-sulz...|      Fürth, Germany|<p>First: Excuse ...|   19|       0|         0|https://i.stack.i...|2016-08-12 02:12:39|2019-10-11 08:30:57|\n",
      "+---------+-------------+----------+--------------------+--------------------+--------------------+-----+--------+----------+--------------------+-------------------+-------------------+\n",
      "only showing top 20 rows\n",
      "\n"
     ]
    }
   ],
   "source": [
    "new_user.show()"
   ]
  },
  {
   "cell_type": "code",
   "execution_count": 20,
   "metadata": {},
   "outputs": [],
   "source": [
    "import pyspark.sql.functions as f"
   ]
  },
  {
   "cell_type": "code",
   "execution_count": 21,
   "metadata": {
    "scrolled": true
   },
   "outputs": [],
   "source": [
    "split_col = f.split(new_user['location'], ',')\n",
    "new_split = new_user.withColumn('city', split_col.getItem(0))\n",
    "split = new_split.withColumn('country', split_col.getItem(1))"
   ]
  },
  {
   "cell_type": "code",
   "execution_count": 22,
   "metadata": {},
   "outputs": [
    {
     "data": {
      "text/plain": [
       "['identical',\n",
       " 'display_name',\n",
       " 'reputation',\n",
       " 'website_url',\n",
       " 'location',\n",
       " 'about_me',\n",
       " 'views',\n",
       " 'up_votes',\n",
       " 'down_votes',\n",
       " 'image_url',\n",
       " 'users_created_at',\n",
       " 'updated_at',\n",
       " 'city',\n",
       " 'country']"
      ]
     },
     "execution_count": 22,
     "metadata": {},
     "output_type": "execute_result"
    }
   ],
   "source": [
    "split.columns"
   ]
  },
  {
   "cell_type": "code",
   "execution_count": 23,
   "metadata": {},
   "outputs": [
    {
     "data": {
      "text/plain": [
       "pyspark.sql.dataframe.DataFrame"
      ]
     },
     "execution_count": 23,
     "metadata": {},
     "output_type": "execute_result"
    }
   ],
   "source": [
    "type(split)"
   ]
  },
  {
   "cell_type": "code",
   "execution_count": 24,
   "metadata": {},
   "outputs": [
    {
     "name": "stdout",
     "output_type": "stream",
     "text": [
      "+--------------------+-------------------+--------+\n",
      "|            location|               city| country|\n",
      "+--------------------+-------------------+--------+\n",
      "|             Germany|            Germany|    null|\n",
      "|     Berlin, Germany|             Berlin| Germany|\n",
      "|             Germany|            Germany|    null|\n",
      "|  Wuppertal, Germany|          Wuppertal| Germany|\n",
      "|             Germany|            Germany|    null|\n",
      "|        Ulm, Germany|                Ulm| Germany|\n",
      "|             Germany|            Germany|    null|\n",
      "| Düsseldorf, Germany|         Düsseldorf| Germany|\n",
      "|             Germany|            Germany|    null|\n",
      "|Rosenheim (Bavari...|Rosenheim (Bavaria)| Germany|\n",
      "|             Germany|            Germany|    null|\n",
      "|             Germany|            Germany|    null|\n",
      "|     Bremen, Germany|             Bremen| Germany|\n",
      "|             Germany|            Germany|    null|\n",
      "|             Germany|            Germany|    null|\n",
      "|  Stuttgart, Germany|          Stuttgart| Germany|\n",
      "|    Hamburg, Germany|            Hamburg| Germany|\n",
      "|Martinsried, Plan...|        Martinsried| Planegg|\n",
      "|             Germany|            Germany|    null|\n",
      "|      Fürth, Germany|              Fürth| Germany|\n",
      "+--------------------+-------------------+--------+\n",
      "only showing top 20 rows\n",
      "\n"
     ]
    }
   ],
   "source": [
    "split.select('location', 'city', 'country').show()"
   ]
  },
  {
   "cell_type": "code",
   "execution_count": 25,
   "metadata": {
    "scrolled": true
   },
   "outputs": [],
   "source": [
    "user = split.join(question, split['identical'] == question.questions_user_id)"
   ]
  },
  {
   "cell_type": "code",
   "execution_count": 26,
   "metadata": {
    "scrolled": true
   },
   "outputs": [
    {
     "name": "stdout",
     "output_type": "stream",
     "text": [
      "+---------+------------+----------+--------------------+-----------------+--------------------+-----+--------+----------+--------------------+-------------------+-------------------+--------+--------+--------+-----------------+--------------------+--------------------+------------------+---------------+----------+-------------+--------------------+\n",
      "|identical|display_name|reputation|         website_url|         location|            about_me|views|up_votes|down_votes|           image_url|   users_created_at|         updated_at|    city| country|identity|questions_user_id|               title|                body|accepted_answer_id|questions_score|view_count|comment_count|questions_created_at|\n",
      "+---------+------------+----------+--------------------+-----------------+--------------------+-----+--------+----------+--------------------+-------------------+-------------------+--------+--------+--------+-----------------+--------------------+--------------------+------------------+---------------+----------+-------------+--------------------+\n",
      "|  2846621|        Bexo|       178|http://www.btanks...|          Germany|<p>I mostly code ...|   48|     412|         1|https://i.stack.i...|2013-10-04 12:42:30|2019-08-28 09:17:33| Germany|    null|54626923|          2846621|How to get the se...|<p>Syncfusion cha...|          54633890|              0|        55|            0| 2019-02-11 08:57:28|\n",
      "|  8921130|        Nico|        14|https://www.insta...|          Germany|<p>Computer Scien...|    3|       0|         0|https://lh4.googl...|2017-11-10 18:01:32|2019-09-03 20:20:53| Germany|    null|56114396|          8921130|How can i get a l...|<p>I downloaded t...|              null|             -1|        45|            5| 2019-05-13 14:24:12|\n",
      "|   633961|     guettli|      3886|http://www.thomas...|Chemnitz, Germany|<p><a href=\"http:...| 4172|    1845|        91|https://i.stack.i...|2011-02-25 10:36:23|2019-10-12 07:18:43|Chemnitz| Germany|54330099|           633961|Language neutral ...|<p>I am looking f...|              null|              1|        82|            0| 2019-01-23 15:01:22|\n",
      "|   633961|     guettli|      3886|http://www.thomas...|Chemnitz, Germany|<p><a href=\"http:...| 4172|    1845|        91|https://i.stack.i...|2011-02-25 10:36:23|2019-10-12 07:18:43|Chemnitz| Germany|54037544|           633961|ABAP: Return gene...|<p>In the past I ...|          54038583|              0|       323|            3| 2019-01-04 10:53:14|\n",
      "|   633961|     guettli|      3886|http://www.thomas...|Chemnitz, Germany|<p><a href=\"http:...| 4172|    1845|        91|https://i.stack.i...|2011-02-25 10:36:23|2019-10-12 07:18:43|Chemnitz| Germany|54367178|           633961|Django ORM: All u...|<p>I want to find...|          54485088|             -1|       166|            5| 2019-01-25 14:24:20|\n",
      "|   633961|     guettli|      3886|http://www.thomas...|Chemnitz, Germany|<p><a href=\"http:...| 4172|    1845|        91|https://i.stack.i...|2011-02-25 10:36:23|2019-10-12 07:18:43|Chemnitz| Germany|54405100|           633961|SE16n table edit ...|<p>I created a cu...|          54462536|              2|       274|            2| 2019-01-28 15:23:01|\n",
      "|   633961|     guettli|      3886|http://www.thomas...|Chemnitz, Germany|<p><a href=\"http:...| 4172|    1845|        91|https://i.stack.i...|2011-02-25 10:36:23|2019-10-12 07:18:43|Chemnitz| Germany|54437681|           633961|virtualenv create...|<p>If I create a ...|          54514547|              2|       136|            0| 2019-01-30 09:52:44|\n",
      "|   633961|     guettli|      3886|http://www.thomas...|Chemnitz, Germany|<p><a href=\"http:...| 4172|    1845|        91|https://i.stack.i...|2011-02-25 10:36:23|2019-10-12 07:18:43|Chemnitz| Germany|54687081|           633961|No output, even w...|<p>I would like t...|          54928310|             10|       219|            6| 2019-02-14 09:29:41|\n",
      "|   633961|     guettli|      3886|http://www.thomas...|Chemnitz, Germany|<p><a href=\"http:...| 4172|    1845|        91|https://i.stack.i...|2011-02-25 10:36:23|2019-10-12 07:18:43|Chemnitz| Germany|54907235|           633961|Difference of two...|<p>I have a set o...|          54907666|              1|        84|            0| 2019-02-27 14:03:34|\n",
      "|   633961|     guettli|      3886|http://www.thomas...|Chemnitz, Germany|<p><a href=\"http:...| 4172|    1845|        91|https://i.stack.i...|2011-02-25 10:36:23|2019-10-12 07:18:43|Chemnitz| Germany|54907886|           633961|Proper type for O...|<p>I have functio...|              null|              2|        65|            2| 2019-02-27 14:37:28|\n",
      "|   633961|     guettli|      3886|http://www.thomas...|Chemnitz, Germany|<p><a href=\"http:...| 4172|    1845|        91|https://i.stack.i...|2011-02-25 10:36:23|2019-10-12 07:18:43|Chemnitz| Germany|54926531|           633961|RTTI: Get length ...|<p>My function mo...|          55260863|              7|       129|            0| 2019-02-28 13:10:04|\n",
      "|   633961|     guettli|      3886|http://www.thomas...|Chemnitz, Germany|<p><a href=\"http:...| 4172|    1845|        91|https://i.stack.i...|2011-02-25 10:36:23|2019-10-12 07:18:43|Chemnitz| Germany|54476847|           633961|SM30 error Change...|<p>I created a ta...|          54513090|              0|       593|            3| 2019-02-01 09:47:20|\n",
      "|   633961|     guettli|      3886|http://www.thomas...|Chemnitz, Germany|<p><a href=\"http:...| 4172|    1845|        91|https://i.stack.i...|2011-02-25 10:36:23|2019-10-12 07:18:43|Chemnitz| Germany|54531289|           633961|Detect unsecure s...|<p>We are running...|          54648443|              6|       163|            6| 2019-02-05 09:33:46|\n",
      "|   633961|     guettli|      3886|http://www.thomas...|Chemnitz, Germany|<p><a href=\"http:...| 4172|    1845|        91|https://i.stack.i...|2011-02-25 10:36:23|2019-10-12 07:18:43|Chemnitz| Germany|54553107|           633961|Replace and eval ...|<p>I have a strin...|          54555135|              0|       164|            0| 2019-02-06 11:56:46|\n",
      "|   633961|     guettli|      3886|http://www.thomas...|Chemnitz, Germany|<p><a href=\"http:...| 4172|    1845|        91|https://i.stack.i...|2011-02-25 10:36:23|2019-10-12 07:18:43|Chemnitz| Germany|54555380|           633961|Apply css td/th t...|<p>I found a simp...|              null|             -1|        32|            0| 2019-02-06 14:00:18|\n",
      "|   633961|     guettli|      3886|http://www.thomas...|Chemnitz, Germany|<p><a href=\"http:...| 4172|    1845|        91|https://i.stack.i...|2011-02-25 10:36:23|2019-10-12 07:18:43|Chemnitz| Germany|55223401|           633961|Minio Python Clie...|<p>I read the min...|          55252074|              0|       340|            0| 2019-03-18 14:15:04|\n",
      "|   633961|     guettli|      3886|http://www.thomas...|Chemnitz, Germany|<p><a href=\"http:...| 4172|    1845|        91|https://i.stack.i...|2011-02-25 10:36:23|2019-10-12 07:18:43|Chemnitz| Germany|55397776|           633961|ValueError: Inval...|<p>This Python co...|          55397827|              0|       363|            6| 2019-03-28 12:33:53|\n",
      "|   633961|     guettli|      3886|http://www.thomas...|Chemnitz, Germany|<p><a href=\"http:...| 4172|    1845|        91|https://i.stack.i...|2011-02-25 10:36:23|2019-10-12 07:18:43|Chemnitz| Germany|54968783|           633961|PyCharm for new c...|<p>I am reading t...|              null|              0|        47|            0| 2019-03-03 12:26:47|\n",
      "|   633961|     guettli|      3886|http://www.thomas...|Chemnitz, Germany|<p><a href=\"http:...| 4172|    1845|        91|https://i.stack.i...|2011-02-25 10:36:23|2019-10-12 07:18:43|Chemnitz| Germany|54980750|           633961|sm30: Set matchin...|<p>I created a ta...|          54981218|              1|       119|            4| 2019-03-04 09:58:55|\n",
      "|   633961|     guettli|      3886|http://www.thomas...|Chemnitz, Germany|<p><a href=\"http:...| 4172|    1845|        91|https://i.stack.i...|2011-02-25 10:36:23|2019-10-12 07:18:43|Chemnitz| Germany|55041209|           633961|OpenPyXl: Mark ro...|<p>This snippet w...|          55042001|              2|       289|            5| 2019-03-07 10:13:58|\n",
      "+---------+------------+----------+--------------------+-----------------+--------------------+-----+--------+----------+--------------------+-------------------+-------------------+--------+--------+--------+-----------------+--------------------+--------------------+------------------+---------------+----------+-------------+--------------------+\n",
      "only showing top 20 rows\n",
      "\n"
     ]
    }
   ],
   "source": [
    "user.show()"
   ]
  },
  {
   "cell_type": "code",
   "execution_count": 27,
   "metadata": {
    "scrolled": true
   },
   "outputs": [
    {
     "data": {
      "text/plain": [
       "['identical',\n",
       " 'display_name',\n",
       " 'reputation',\n",
       " 'website_url',\n",
       " 'location',\n",
       " 'about_me',\n",
       " 'views',\n",
       " 'up_votes',\n",
       " 'down_votes',\n",
       " 'image_url',\n",
       " 'users_created_at',\n",
       " 'updated_at',\n",
       " 'city',\n",
       " 'country',\n",
       " 'identity',\n",
       " 'questions_user_id',\n",
       " 'title',\n",
       " 'body',\n",
       " 'accepted_answer_id',\n",
       " 'questions_score',\n",
       " 'view_count',\n",
       " 'comment_count',\n",
       " 'questions_created_at']"
      ]
     },
     "execution_count": 27,
     "metadata": {},
     "output_type": "execute_result"
    }
   ],
   "source": [
    "user.columns"
   ]
  },
  {
   "cell_type": "code",
   "execution_count": 28,
   "metadata": {},
   "outputs": [
    {
     "data": {
      "text/plain": [
       "pyspark.sql.dataframe.DataFrame"
      ]
     },
     "execution_count": 28,
     "metadata": {},
     "output_type": "execute_result"
    }
   ],
   "source": [
    "type(user)"
   ]
  },
  {
   "cell_type": "code",
   "execution_count": 29,
   "metadata": {
    "scrolled": true
   },
   "outputs": [],
   "source": [
    "result = user.join(answer, user['questions_created_at'] == answer.answers_created_at)"
   ]
  },
  {
   "cell_type": "code",
   "execution_count": 30,
   "metadata": {
    "scrolled": true
   },
   "outputs": [
    {
     "name": "stdout",
     "output_type": "stream",
     "text": [
      "+---------+------------------+----------+--------------------+-------------------+--------------------+-----+--------+----------+--------------------+-------------------+-------------------+----------+--------+--------+-----------------+--------------------+--------------------+------------------+---------------+----------+-------------+--------------------+--------+---------------+-----------+--------------------+-------------+----------+-------------------+\n",
      "|identical|      display_name|reputation|         website_url|           location|            about_me|views|up_votes|down_votes|           image_url|   users_created_at|         updated_at|      city| country|identity|questions_user_id|               title|                body|accepted_answer_id|questions_score|view_count|comment_count|questions_created_at|identify|answers_user_id|question_id|        answers_body|answers_score|comment_at| answers_created_at|\n",
      "+---------+------------------+----------+--------------------+-------------------+--------------------+-----+--------+----------+--------------------+-------------------+-------------------+----------+--------+--------+-----------------+--------------------+--------------------+------------------+---------------+----------+-------------+--------------------+--------+---------------+-----------+--------------------+-------------+----------+-------------------+\n",
      "|   636635|          xsigndll|       173|https://www.xsign...|            Germany|<p><a href=\"https...|   24|      35|         0|https://i.stack.i...|2011-02-27 16:48:00|2019-10-08 19:49:45|   Germany|    null|54558527|           636635|How to get func d...|<p>How can I get ...|          54558947|              1|       235|            6| 2019-02-06 16:42:38|54558526|        7096836|   54557928|<p>So I looked cl...|            0|         0|2019-02-06 16:42:38|\n",
      "|  5203853|     Tom el Safadi|      1682|http://www.KES-So...| Pforzheim, Germany|<p>Currently stud...|  317|     216|        16|https://www.grava...|2015-08-07 22:30:37|2019-10-13 00:01:21| Pforzheim| Germany|55115319|          5203853|ModelState Errors...|<p>I am having is...|          55115371|             -1|        34|            5| 2019-03-12 06:24:25|55115320|       11189244|   55060279|<p>I have tried t...|            0|         0|2019-03-12 06:24:25|\n",
      "|  3000387|              Marv|      2749|   http://marvk.net/|            Germany|<p>Java is fun.</p>\n",
      "|  283|     460|       575|https://i.stack.i...|2013-11-16 21:35:56|2019-10-11 09:07:09|   Germany|    null|54808333|          3000387|Performance of ar...|<p>For an impleme...|              null|              1|        79|            0| 2019-02-21 13:32:33|54808334|        3000387|   54808333|<p>I decided to w...|            2|        14|2019-02-21 13:32:33|\n",
      "|  8740349|        Top-Master|       838|http://eson.herok...|            Germany|<p>I do <strong>l...|  194|     845|         3|https://i.stack.i...|2017-10-08 09:38:05|2019-10-13 06:26:03|   Germany|    null|55933244|          8740349|\"obj != null\" vs ...|<p>A friend said ...|          55933275|              0|        46|            0| 2019-05-01 08:04:52|55933245|        4225674|   55932760|<p>change the fol...|            0|         0|2019-05-01 08:04:52|\n",
      "|  2311074|              Adam|      5655|https://drnielsen...|    Berlin, Germany|<p>Check out my <...|  894|    1814|        86|https://i.stack.i...|2013-04-23 11:30:36|2019-10-13 00:28:06|    Berlin| Germany|56061793|          2311074|Where is the crea...|<p>Every model ca...|          56061862|              0|        60|            4| 2019-05-09 14:34:05|56061794|        8015829|   56061626|<p>You didn't clo...|            0|         4|2019-05-09 14:34:05|\n",
      "|  3559967|            Antony|      1141|http://www.linked...|    Berlin, Germany|<p>Software craft...|  135|     377|         0|https://graph.fac...|2014-04-22 10:20:29|2019-10-12 17:27:12|    Berlin| Germany|55686943|          3559967|How to upgrade my...|<p>I already have...|          55686944|              2|      1133|            1| 2019-04-15 10:13:33|55686944|        3559967|   55686943|<p>Use the follow...|            7|         0|2019-04-15 10:13:33|\n",
      "|  1752496|  Lukas Würzburger|      3690| https://truffls.com|    Berlin, Germany|<p>When I was a k...|  504|     936|        14|https://i.stack.i...|2012-10-17 08:26:51|2019-10-12 21:55:38|    Berlin| Germany|56486345|          1752496|How to create a p...|<p>I'm trying to ...|          56486346|              2|       650|            0| 2019-06-06 23:44:48|56486346|        1752496|   56486345|<p>Just use the <...|            6|         0|2019-06-06 23:44:48|\n",
      "|  2367231|            Alex44|      1817|           http://na|    Berlin, Germany|<p>I studied aero...|  155|     658|         4|https://i.stack.i...|2013-05-09 17:04:43|2019-10-11 16:39:07|    Berlin| Germany|56361125|          2367231|SymPy/SciPy: Invo...|<p>I'm new to <co...|          56373408|              0|        27|            1| 2019-05-29 12:51:15|56361126|       11409956|   56360045|<p>I tried this b...|            0|         0|2019-05-29 12:51:15|\n",
      "|  2859206|            DrWhat|       838|http://www.sci-ma...|Heidelberg, Germany|<p>Looking to joi...|   88|      80|         0|https://i.stack.i...|2013-10-08 15:10:21|2019-10-09 12:31:20|Heidelberg| Germany|56479912|          2859206|Separately loadin...|<p>I'm loading da...|          57181198|              0|        47|            0| 2019-06-06 14:41:38|56479911|       11227781|   56479689|<p>You should use...|            3|         3|2019-06-06 14:41:38|\n",
      "|    15809|             Mecki|     84556|  http://example.net|            Germany|<p>Confucius once...| 5317|     898|        76|https://i.stack.i...|2008-09-17 12:56:03|2019-10-11 16:36:45|   Germany|    null|54682602|            15809|How to automate c...|<p>I have compile...|          54700900|              1|        53|            0| 2019-02-14 03:03:46|54682603|          15809|   54682602|<p>The overall so...|            1|         0|2019-02-14 03:03:46|\n",
      "|    15809|             Mecki|     84556|  http://example.net|            Germany|<p>Confucius once...| 5317|     898|        76|https://i.stack.i...|2008-09-17 12:56:03|2019-10-11 16:36:45|   Germany|    null|54682602|            15809|How to automate c...|<p>I have compile...|          54700900|              1|        53|            0| 2019-02-14 03:03:46|54682601|        6896884|   54681609|<p>This is most l...|            1|         1|2019-02-14 03:03:46|\n",
      "|  2733445|      Joerg Krause|       840|http://www.joergk...|    Berlin, Germany|<p>I'm a develope...|   56|      58|         3|https://graph.fac...|2013-08-30 15:10:50|2019-10-11 07:58:55|    Berlin| Germany|54537837|          2733445|I cannot get elec...|<p>I had problems...|              null|              2|       432|            0| 2019-02-05 15:31:07|54537838|        2733445|   54537837|<p>I used TypeScr...|            2|         1|2019-02-05 15:31:07|\n",
      "|  8331756|        J. Hesters|      1715|https://janhester...|    Aachen, Germany|<p>JavaScript Dev...|  572|     480|        11|https://i.stack.i...|2017-07-19 12:45:04|2019-10-12 18:31:33|    Aachen| Germany|55593426|          8331756|Ramda: Check if t...|<p>I'm still lear...|          55597200|              4|       476|            0| 2019-04-09 12:54:43|55593425|        5093602|   55593405|<p>Try to use <co...|            0|         2|2019-04-09 12:54:43|\n",
      "|  8699120|              rkta|      1522|http://www.tipfeh...|            Germany|<p>\n",
      "Still learnin...|  220|    1935|      1618|https://i.stack.i...|2017-09-30 06:21:05|2019-10-12 19:59:28|   Germany|    null|54734173|          8699120|How to copy and p...|<p>I often want t...|          54734174|              0|      1384|            0| 2019-02-17 14:23:29|54734174|        8699120|   54734173|<h1>Copy</h1>\n",
      "\n",
      "<p...|            5|         0|2019-02-17 14:23:29|\n",
      "|  2311074|              Adam|      5655|https://drnielsen...|    Berlin, Germany|<p>Check out my <...|  894|    1814|        86|https://i.stack.i...|2013-04-23 11:30:36|2019-10-13 00:28:06|    Berlin| Germany|56045322|          2311074|Assignment in mod...|<p>I have a car w...|          56049393|              2|        52|            5| 2019-05-08 16:36:40|56045321|       11064050|   56009924|<p>Try too use th...|            1|         0|2019-05-08 16:36:40|\n",
      "|  3379704|           flowdee|       135|https://coder.flo...|            Germany|<p>Passionated We...|   16|       5|         0|https://i.stack.i...|2014-03-04 15:32:07|2019-10-11 08:45:29|   Germany|    null|55297109|          3379704|Codeigniter: Make...|<p>I'm using the ...|              null|              0|        14|            1| 2019-03-22 09:59:53|55297110|        8093391|   55296197|<blockquote>\n",
      "  <p...|            0|         1|2019-03-22 09:59:53|\n",
      "|  2411320|          gsamaras|     55594|http://cgi.di.uoa...|    Munich, Germany|<ul>\n",
      "<li>Yahoo! M...|10545|    7444|     10051|https://i.stack.i...|2013-05-22 21:25:42|2019-10-12 19:19:48|    Munich| Germany|54588493|          2411320|Replace substring...|<p>I have this st...|          54588525|              0|        87|            0| 2019-02-08 08:29:16|54588492|        1454708|   54579276|<p>it can't be do...|            2|         2|2019-02-08 08:29:16|\n",
      "|  7017861|Nguyen Phong Thien|      1816|http://fiverr.com...|    Munich, Germany|<p>a Front-End de...|   96|     151|         2|https://lh4.googl...|2016-10-14 07:31:01|2019-10-10 08:07:15|    Munich| Germany|54749242|          7017861|Delete a dynamic ...|<p>In TypeScript ...|          54751134|              1|       415|            2| 2019-02-18 14:17:40|54749240|        9409327|   54746973|<p>If you already...|            2|         5|2019-02-18 14:17:40|\n",
      "|  7017861|Nguyen Phong Thien|      1816|http://fiverr.com...|    Munich, Germany|<p>a Front-End de...|   96|     151|         2|https://lh4.googl...|2016-10-14 07:31:01|2019-10-10 08:07:15|    Munich| Germany|54749242|          7017861|Delete a dynamic ...|<p>In TypeScript ...|          54751134|              1|       415|            2| 2019-02-18 14:17:40|54749241|       10446756|   54749024|<p>This extracts ...|            1|         1|2019-02-18 14:17:40|\n",
      "|  7505395|    Patrick Artner|     30599|https://www.xing....| Bielefeld, Germany|<p><strong>Work:<...| 5059|    3486|      4663|https://i.stack.i...|2017-02-02 10:46:51|2019-10-12 21:31:42| Bielefeld| Germany|54030104|          7505395|Is there a way to...|<p>The function a...|          54030205|              4|        93|            3| 2019-01-03 21:33:46|54030105|        7505395|   54030104|<p>The only way I...|            0|         1|2019-01-03 21:33:46|\n",
      "+---------+------------------+----------+--------------------+-------------------+--------------------+-----+--------+----------+--------------------+-------------------+-------------------+----------+--------+--------+-----------------+--------------------+--------------------+------------------+---------------+----------+-------------+--------------------+--------+---------------+-----------+--------------------+-------------+----------+-------------------+\n",
      "only showing top 20 rows\n",
      "\n"
     ]
    }
   ],
   "source": [
    "result.show()"
   ]
  },
  {
   "cell_type": "code",
   "execution_count": 31,
   "metadata": {
    "scrolled": true
   },
   "outputs": [
    {
     "name": "stdout",
     "output_type": "stream",
     "text": [
      "+--------+----------+\n",
      "| country|      city|\n",
      "+--------+----------+\n",
      "|    null|   Germany|\n",
      "| Germany| Pforzheim|\n",
      "|    null|   Germany|\n",
      "|    null|   Germany|\n",
      "| Germany|    Berlin|\n",
      "| Germany|    Berlin|\n",
      "| Germany|    Berlin|\n",
      "| Germany|    Berlin|\n",
      "| Germany|Heidelberg|\n",
      "|    null|   Germany|\n",
      "|    null|   Germany|\n",
      "| Germany|    Berlin|\n",
      "| Germany|    Aachen|\n",
      "|    null|   Germany|\n",
      "| Germany|    Berlin|\n",
      "|    null|   Germany|\n",
      "| Germany|    Munich|\n",
      "| Germany|    Munich|\n",
      "| Germany|    Munich|\n",
      "| Germany| Bielefeld|\n",
      "+--------+----------+\n",
      "only showing top 20 rows\n",
      "\n"
     ]
    }
   ],
   "source": [
    "result.select('country', 'city').show()"
   ]
  },
  {
   "cell_type": "code",
   "execution_count": 32,
   "metadata": {
    "scrolled": true
   },
   "outputs": [],
   "source": [
    "result = result.filter((result.city !='Germany')& (result.country !='null'))"
   ]
  },
  {
   "cell_type": "code",
   "execution_count": 33,
   "metadata": {
    "scrolled": true
   },
   "outputs": [
    {
     "name": "stdout",
     "output_type": "stream",
     "text": [
      "+--------+----------+-------------------+\n",
      "| country|      city|           location|\n",
      "+--------+----------+-------------------+\n",
      "| Germany| Pforzheim| Pforzheim, Germany|\n",
      "| Germany|    Berlin|    Berlin, Germany|\n",
      "| Germany|    Berlin|    Berlin, Germany|\n",
      "| Germany|    Berlin|    Berlin, Germany|\n",
      "| Germany|    Berlin|    Berlin, Germany|\n",
      "| Germany|Heidelberg|Heidelberg, Germany|\n",
      "| Germany|    Berlin|    Berlin, Germany|\n",
      "| Germany|    Aachen|    Aachen, Germany|\n",
      "| Germany|    Berlin|    Berlin, Germany|\n",
      "| Germany|    Munich|    Munich, Germany|\n",
      "| Germany|    Munich|    Munich, Germany|\n",
      "| Germany|    Munich|    Munich, Germany|\n",
      "| Germany| Bielefeld| Bielefeld, Germany|\n",
      "| Germany|  Chemnitz|  Chemnitz, Germany|\n",
      "| Germany|  Chemnitz|  Chemnitz, Germany|\n",
      "| Germany|   Leipzig|   Leipzig, Germany|\n",
      "| Germany|    Berlin|    Berlin, Germany|\n",
      "| Germany|  Chemnitz|  Chemnitz, Germany|\n",
      "| Germany|    Berlin|    Berlin, Germany|\n",
      "| Germany|    Berlin|    Berlin, Germany|\n",
      "+--------+----------+-------------------+\n",
      "only showing top 20 rows\n",
      "\n"
     ]
    }
   ],
   "source": [
    "result.select('country','city','location').show()"
   ]
  },
  {
   "cell_type": "code",
   "execution_count": 34,
   "metadata": {
    "scrolled": true
   },
   "outputs": [
    {
     "data": {
      "text/plain": [
       "pyspark.sql.dataframe.DataFrame"
      ]
     },
     "execution_count": 34,
     "metadata": {},
     "output_type": "execute_result"
    }
   ],
   "source": [
    "type(result)"
   ]
  },
  {
   "cell_type": "code",
   "execution_count": 35,
   "metadata": {},
   "outputs": [
    {
     "data": {
      "text/plain": [
       "['identify',\n",
       " 'answers_user_id',\n",
       " 'question_id',\n",
       " 'answers_body',\n",
       " 'answers_score',\n",
       " 'comment_at',\n",
       " 'answers_created_at']"
      ]
     },
     "execution_count": 35,
     "metadata": {},
     "output_type": "execute_result"
    }
   ],
   "source": [
    "answer.columns"
   ]
  },
  {
   "cell_type": "code",
   "execution_count": 36,
   "metadata": {
    "scrolled": true
   },
   "outputs": [
    {
     "data": {
      "text/plain": [
       "['identical',\n",
       " 'display_name',\n",
       " 'reputation',\n",
       " 'website_url',\n",
       " 'location',\n",
       " 'about_me',\n",
       " 'views',\n",
       " 'up_votes',\n",
       " 'down_votes',\n",
       " 'image_url',\n",
       " 'users_created_at',\n",
       " 'updated_at',\n",
       " 'city',\n",
       " 'country',\n",
       " 'identity',\n",
       " 'questions_user_id',\n",
       " 'title',\n",
       " 'body',\n",
       " 'accepted_answer_id',\n",
       " 'questions_score',\n",
       " 'view_count',\n",
       " 'comment_count',\n",
       " 'questions_created_at',\n",
       " 'identify',\n",
       " 'answers_user_id',\n",
       " 'question_id',\n",
       " 'answers_body',\n",
       " 'answers_score',\n",
       " 'comment_at',\n",
       " 'answers_created_at']"
      ]
     },
     "execution_count": 36,
     "metadata": {},
     "output_type": "execute_result"
    }
   ],
   "source": [
    "result.columns"
   ]
  },
  {
   "cell_type": "code",
   "execution_count": 37,
   "metadata": {
    "scrolled": false
   },
   "outputs": [
    {
     "data": {
      "text/plain": [
       "[('identical', 'int'),\n",
       " ('display_name', 'string'),\n",
       " ('reputation', 'int'),\n",
       " ('website_url', 'string'),\n",
       " ('location', 'string'),\n",
       " ('about_me', 'string'),\n",
       " ('views', 'int'),\n",
       " ('up_votes', 'int'),\n",
       " ('down_votes', 'int'),\n",
       " ('image_url', 'string'),\n",
       " ('users_created_at', 'timestamp'),\n",
       " ('updated_at', 'timestamp'),\n",
       " ('city', 'string'),\n",
       " ('country', 'string'),\n",
       " ('identity', 'int'),\n",
       " ('questions_user_id', 'int'),\n",
       " ('title', 'string'),\n",
       " ('body', 'string'),\n",
       " ('accepted_answer_id', 'int'),\n",
       " ('questions_score', 'int'),\n",
       " ('view_count', 'int'),\n",
       " ('comment_count', 'int'),\n",
       " ('questions_created_at', 'timestamp'),\n",
       " ('identify', 'int'),\n",
       " ('answers_user_id', 'int'),\n",
       " ('question_id', 'int'),\n",
       " ('answers_body', 'string'),\n",
       " ('answers_score', 'int'),\n",
       " ('comment_at', 'int'),\n",
       " ('answers_created_at', 'timestamp')]"
      ]
     },
     "execution_count": 37,
     "metadata": {},
     "output_type": "execute_result"
    }
   ],
   "source": [
    "result.dtypes"
   ]
  },
  {
   "cell_type": "code",
   "execution_count": 38,
   "metadata": {
    "scrolled": true
   },
   "outputs": [
    {
     "name": "stdout",
     "output_type": "stream",
     "text": [
      "+--------+------------------+----------+--------+----------+------------------+\n",
      "|identity|      display_name|reputation| country|      city|accepted_answer_id|\n",
      "+--------+------------------+----------+--------+----------+------------------+\n",
      "|55115319|     Tom el Safadi|      1682| Germany| Pforzheim|          55115371|\n",
      "|56061793|              Adam|      5655| Germany|    Berlin|          56061862|\n",
      "|55686943|            Antony|      1141| Germany|    Berlin|          55686944|\n",
      "|56486345|  Lukas Würzburger|      3690| Germany|    Berlin|          56486346|\n",
      "|56361125|            Alex44|      1817| Germany|    Berlin|          56373408|\n",
      "|56479912|            DrWhat|       838| Germany|Heidelberg|          57181198|\n",
      "|54537837|      Joerg Krause|       840| Germany|    Berlin|              null|\n",
      "|55593426|        J. Hesters|      1715| Germany|    Aachen|          55597200|\n",
      "|56045322|              Adam|      5655| Germany|    Berlin|          56049393|\n",
      "|54588493|          gsamaras|     55594| Germany|    Munich|          54588525|\n",
      "|54749242|Nguyen Phong Thien|      1816| Germany|    Munich|          54751134|\n",
      "|54749242|Nguyen Phong Thien|      1816| Germany|    Munich|          54751134|\n",
      "|54030104|    Patrick Artner|     30599| Germany| Bielefeld|          54030205|\n",
      "|54405100|           guettli|      3886| Germany|  Chemnitz|          54462536|\n",
      "|54405100|           guettli|      3886| Germany|  Chemnitz|          54462536|\n",
      "|54112404|        EluciusFTW|      1144| Germany|   Leipzig|              null|\n",
      "|54751297|     SmCaterpillar|      3061| Germany|    Berlin|          54901651|\n",
      "|54687081|           guettli|      3886| Germany|  Chemnitz|          54928310|\n",
      "|54710050|    Robert Metzger|      3831| Germany|    Berlin|              null|\n",
      "|55743810|        jonasjacek|       106| Germany|    Berlin|              null|\n",
      "+--------+------------------+----------+--------+----------+------------------+\n",
      "only showing top 20 rows\n",
      "\n"
     ]
    }
   ],
   "source": [
    "result.select( 'identity', 'display_name', 'reputation', 'country', 'city', 'accepted_answer_id').show()"
   ]
  },
  {
   "cell_type": "code",
   "execution_count": 39,
   "metadata": {},
   "outputs": [],
   "source": [
    "result.registerTempTable('new_df')\n",
    "new_df = spark.sql('select min (updated_at) from new_df')"
   ]
  },
  {
   "cell_type": "code",
   "execution_count": 40,
   "metadata": {},
   "outputs": [
    {
     "name": "stdout",
     "output_type": "stream",
     "text": [
      "+-------------------+\n",
      "|    min(updated_at)|\n",
      "+-------------------+\n",
      "|2019-10-02 08:53:59|\n",
      "+-------------------+\n",
      "\n"
     ]
    }
   ],
   "source": [
    "new_df.show()"
   ]
  },
  {
   "cell_type": "code",
   "execution_count": 41,
   "metadata": {
    "scrolled": false
   },
   "outputs": [
    {
     "name": "stdout",
     "output_type": "stream",
     "text": [
      "+----------+-------------------+-------------------+--------+\n",
      "|      city|           location|         updated_at| country|\n",
      "+----------+-------------------+-------------------+--------+\n",
      "| Pforzheim| Pforzheim, Germany|2019-10-13 00:01:21| Germany|\n",
      "|    Berlin|    Berlin, Germany|2019-10-13 00:28:06| Germany|\n",
      "|    Berlin|    Berlin, Germany|2019-10-12 17:27:12| Germany|\n",
      "|    Berlin|    Berlin, Germany|2019-10-12 21:55:38| Germany|\n",
      "|    Berlin|    Berlin, Germany|2019-10-11 16:39:07| Germany|\n",
      "|Heidelberg|Heidelberg, Germany|2019-10-09 12:31:20| Germany|\n",
      "|    Berlin|    Berlin, Germany|2019-10-11 07:58:55| Germany|\n",
      "|    Aachen|    Aachen, Germany|2019-10-12 18:31:33| Germany|\n",
      "|    Berlin|    Berlin, Germany|2019-10-13 00:28:06| Germany|\n",
      "|    Munich|    Munich, Germany|2019-10-12 19:19:48| Germany|\n",
      "|    Munich|    Munich, Germany|2019-10-10 08:07:15| Germany|\n",
      "|    Munich|    Munich, Germany|2019-10-10 08:07:15| Germany|\n",
      "| Bielefeld| Bielefeld, Germany|2019-10-12 21:31:42| Germany|\n",
      "|  Chemnitz|  Chemnitz, Germany|2019-10-12 07:18:43| Germany|\n",
      "|  Chemnitz|  Chemnitz, Germany|2019-10-12 07:18:43| Germany|\n",
      "|   Leipzig|   Leipzig, Germany|2019-10-12 10:28:44| Germany|\n",
      "|    Berlin|    Berlin, Germany|2019-10-11 09:38:58| Germany|\n",
      "|  Chemnitz|  Chemnitz, Germany|2019-10-12 07:18:43| Germany|\n",
      "|    Berlin|    Berlin, Germany|2019-10-02 08:53:59| Germany|\n",
      "|    Berlin|    Berlin, Germany|2019-10-09 10:20:38| Germany|\n",
      "+----------+-------------------+-------------------+--------+\n",
      "only showing top 20 rows\n",
      "\n"
     ]
    }
   ],
   "source": [
    "spark.sql(\"SELECT city,location,updated_at, country from new_df\").show()"
   ]
  },
  {
   "cell_type": "code",
   "execution_count": 42,
   "metadata": {},
   "outputs": [
    {
     "data": {
      "text/plain": [
       "<pyspark.sql.readwriter.DataFrameWriter at 0x7fe2ae241fd0>"
      ]
     },
     "execution_count": 42,
     "metadata": {},
     "output_type": "execute_result"
    }
   ],
   "source": [
    "result.write.format(\"jdbc\").options(\n",
    "   name=\"PostgreSQL-postgres\",\n",
    "   url=\"jdbc:postgresql://localhost:5432/postgres\",\n",
    "   driver=\"org.postgresql.Driver\",\n",
    "   user=\"anna\",\n",
    "   password='anna',\n",
    "   ssl='true',\n",
    "   dbtable='stackoverflow_filtered.result',\n",
    ")"
   ]
  }
 ],
 "metadata": {
  "kernelspec": {
   "display_name": "Python 3",
   "language": "python",
   "name": "python3"
  },
  "language_info": {
   "codemirror_mode": {
    "name": "ipython",
    "version": 3
   },
   "file_extension": ".py",
   "mimetype": "text/x-python",
   "name": "python",
   "nbconvert_exporter": "python",
   "pygments_lexer": "ipython3",
   "version": "3.7.4"
  }
 },
 "nbformat": 4,
 "nbformat_minor": 2
}
